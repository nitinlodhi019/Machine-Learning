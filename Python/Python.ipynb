{
  "cells": [
    {
      "cell_type": "markdown",
      "metadata": {
        "id": "view-in-github",
        "colab_type": "text"
      },
      "source": [
        "<a href=\"https://colab.research.google.com/github/nitinlodhi019/Machine-Learning/blob/main/Python/Python.ipynb\" target=\"_parent\"><img src=\"https://colab.research.google.com/assets/colab-badge.svg\" alt=\"Open In Colab\"/></a>"
      ]
    },
    {
      "cell_type": "code",
      "source": [
        "from collections import Counter\n",
        "\n",
        "mylist = [1,2,4,2,6,5,8,9,3,4,4]\n",
        "\n",
        "print(Counter(mylist))\n",
        "print(Counter(mylist).items())\n",
        "print(Counter(mylist).keys())\n",
        "print(Counter(mylist).values())"
      ],
      "metadata": {
        "colab": {
          "base_uri": "https://localhost:8080/"
        },
        "id": "xnDfgHl1WeFy",
        "outputId": "c5681d39-622a-4dec-e550-9c8d017b654b"
      },
      "execution_count": null,
      "outputs": [
        {
          "output_type": "stream",
          "name": "stdout",
          "text": [
            "Counter({4: 3, 2: 2, 1: 1, 6: 1, 5: 1, 8: 1, 9: 1, 3: 1})\n",
            "dict_items([(1, 1), (2, 2), (4, 3), (6, 1), (5, 1), (8, 1), (9, 1), (3, 1)])\n",
            "dict_keys([1, 2, 4, 6, 5, 8, 9, 3])\n",
            "dict_values([1, 2, 3, 1, 1, 1, 1, 1])\n"
          ]
        }
      ]
    },
    {
      "cell_type": "code",
      "source": [
        "\n",
        "def counter(val, mylist):\n",
        "    if val in mylist:\n",
        "        mylist.remove(val)\n",
        "        return mylist\n",
        "    else:\n",
        "        return mylist\n",
        "\n",
        "if __name__ == '__main__':\n",
        "    for i in range(5):\n",
        "        mylist = [1,2,4,2,6,5,8,9,3,4,4]\n",
        "        val = int(input(\"Enter a number: \"))\n",
        "        result = counter(val, mylist)\n",
        "        print(result)\n"
      ],
      "metadata": {
        "colab": {
          "base_uri": "https://localhost:8080/",
          "height": 478
        },
        "id": "8qbJoBYHWd_0",
        "outputId": "b2d113fd-b731-493d-e0b1-925ae5a53adb"
      },
      "execution_count": null,
      "outputs": [
        {
          "output_type": "stream",
          "name": "stdout",
          "text": [
            "Enter a number: 2\n",
            "[1, 4, 2, 6, 5, 8, 9, 3, 4, 4]\n",
            "Enter a number: 2\n",
            "[1, 4, 2, 6, 5, 8, 9, 3, 4, 4]\n",
            "Enter a number: 4\n",
            "[1, 2, 2, 6, 5, 8, 9, 3, 4, 4]\n"
          ]
        },
        {
          "output_type": "error",
          "ename": "KeyboardInterrupt",
          "evalue": "Interrupted by user",
          "traceback": [
            "\u001b[0;31m---------------------------------------------------------------------------\u001b[0m",
            "\u001b[0;31mKeyboardInterrupt\u001b[0m                         Traceback (most recent call last)",
            "\u001b[0;32m<ipython-input-8-11979747ad36>\u001b[0m in \u001b[0;36m<cell line: 8>\u001b[0;34m()\u001b[0m\n\u001b[1;32m      9\u001b[0m     \u001b[0;32mfor\u001b[0m \u001b[0mi\u001b[0m \u001b[0;32min\u001b[0m \u001b[0mrange\u001b[0m\u001b[0;34m(\u001b[0m\u001b[0;36m5\u001b[0m\u001b[0;34m)\u001b[0m\u001b[0;34m:\u001b[0m\u001b[0;34m\u001b[0m\u001b[0;34m\u001b[0m\u001b[0m\n\u001b[1;32m     10\u001b[0m         \u001b[0mmylist\u001b[0m \u001b[0;34m=\u001b[0m \u001b[0;34m[\u001b[0m\u001b[0;36m1\u001b[0m\u001b[0;34m,\u001b[0m\u001b[0;36m2\u001b[0m\u001b[0;34m,\u001b[0m\u001b[0;36m4\u001b[0m\u001b[0;34m,\u001b[0m\u001b[0;36m2\u001b[0m\u001b[0;34m,\u001b[0m\u001b[0;36m6\u001b[0m\u001b[0;34m,\u001b[0m\u001b[0;36m5\u001b[0m\u001b[0;34m,\u001b[0m\u001b[0;36m8\u001b[0m\u001b[0;34m,\u001b[0m\u001b[0;36m9\u001b[0m\u001b[0;34m,\u001b[0m\u001b[0;36m3\u001b[0m\u001b[0;34m,\u001b[0m\u001b[0;36m4\u001b[0m\u001b[0;34m,\u001b[0m\u001b[0;36m4\u001b[0m\u001b[0;34m]\u001b[0m\u001b[0;34m\u001b[0m\u001b[0;34m\u001b[0m\u001b[0m\n\u001b[0;32m---> 11\u001b[0;31m         \u001b[0mval\u001b[0m \u001b[0;34m=\u001b[0m \u001b[0mint\u001b[0m\u001b[0;34m(\u001b[0m\u001b[0minput\u001b[0m\u001b[0;34m(\u001b[0m\u001b[0;34m\"Enter a number: \"\u001b[0m\u001b[0;34m)\u001b[0m\u001b[0;34m)\u001b[0m\u001b[0;34m\u001b[0m\u001b[0;34m\u001b[0m\u001b[0m\n\u001b[0m\u001b[1;32m     12\u001b[0m         \u001b[0mresult\u001b[0m \u001b[0;34m=\u001b[0m \u001b[0mcounter\u001b[0m\u001b[0;34m(\u001b[0m\u001b[0mval\u001b[0m\u001b[0;34m,\u001b[0m \u001b[0mmylist\u001b[0m\u001b[0;34m)\u001b[0m\u001b[0;34m\u001b[0m\u001b[0;34m\u001b[0m\u001b[0m\n\u001b[1;32m     13\u001b[0m         \u001b[0mprint\u001b[0m\u001b[0;34m(\u001b[0m\u001b[0mresult\u001b[0m\u001b[0;34m)\u001b[0m\u001b[0;34m\u001b[0m\u001b[0;34m\u001b[0m\u001b[0m\n",
            "\u001b[0;32m/usr/local/lib/python3.10/dist-packages/ipykernel/kernelbase.py\u001b[0m in \u001b[0;36mraw_input\u001b[0;34m(self, prompt)\u001b[0m\n\u001b[1;32m    849\u001b[0m                 \u001b[0;34m\"raw_input was called, but this frontend does not support input requests.\"\u001b[0m\u001b[0;34m\u001b[0m\u001b[0;34m\u001b[0m\u001b[0m\n\u001b[1;32m    850\u001b[0m             )\n\u001b[0;32m--> 851\u001b[0;31m         return self._input_request(str(prompt),\n\u001b[0m\u001b[1;32m    852\u001b[0m             \u001b[0mself\u001b[0m\u001b[0;34m.\u001b[0m\u001b[0m_parent_ident\u001b[0m\u001b[0;34m,\u001b[0m\u001b[0;34m\u001b[0m\u001b[0;34m\u001b[0m\u001b[0m\n\u001b[1;32m    853\u001b[0m             \u001b[0mself\u001b[0m\u001b[0;34m.\u001b[0m\u001b[0m_parent_header\u001b[0m\u001b[0;34m,\u001b[0m\u001b[0;34m\u001b[0m\u001b[0;34m\u001b[0m\u001b[0m\n",
            "\u001b[0;32m/usr/local/lib/python3.10/dist-packages/ipykernel/kernelbase.py\u001b[0m in \u001b[0;36m_input_request\u001b[0;34m(self, prompt, ident, parent, password)\u001b[0m\n\u001b[1;32m    893\u001b[0m             \u001b[0;32mexcept\u001b[0m \u001b[0mKeyboardInterrupt\u001b[0m\u001b[0;34m:\u001b[0m\u001b[0;34m\u001b[0m\u001b[0;34m\u001b[0m\u001b[0m\n\u001b[1;32m    894\u001b[0m                 \u001b[0;31m# re-raise KeyboardInterrupt, to truncate traceback\u001b[0m\u001b[0;34m\u001b[0m\u001b[0;34m\u001b[0m\u001b[0m\n\u001b[0;32m--> 895\u001b[0;31m                 \u001b[0;32mraise\u001b[0m \u001b[0mKeyboardInterrupt\u001b[0m\u001b[0;34m(\u001b[0m\u001b[0;34m\"Interrupted by user\"\u001b[0m\u001b[0;34m)\u001b[0m \u001b[0;32mfrom\u001b[0m \u001b[0;32mNone\u001b[0m\u001b[0;34m\u001b[0m\u001b[0;34m\u001b[0m\u001b[0m\n\u001b[0m\u001b[1;32m    896\u001b[0m             \u001b[0;32mexcept\u001b[0m \u001b[0mException\u001b[0m \u001b[0;32mas\u001b[0m \u001b[0me\u001b[0m\u001b[0;34m:\u001b[0m\u001b[0;34m\u001b[0m\u001b[0;34m\u001b[0m\u001b[0m\n\u001b[1;32m    897\u001b[0m                 \u001b[0mself\u001b[0m\u001b[0;34m.\u001b[0m\u001b[0mlog\u001b[0m\u001b[0;34m.\u001b[0m\u001b[0mwarning\u001b[0m\u001b[0;34m(\u001b[0m\u001b[0;34m\"Invalid Message:\"\u001b[0m\u001b[0;34m,\u001b[0m \u001b[0mexc_info\u001b[0m\u001b[0;34m=\u001b[0m\u001b[0;32mTrue\u001b[0m\u001b[0;34m)\u001b[0m\u001b[0;34m\u001b[0m\u001b[0;34m\u001b[0m\u001b[0m\n",
            "\u001b[0;31mKeyboardInterrupt\u001b[0m: Interrupted by user"
          ]
        }
      ]
    },
    {
      "cell_type": "markdown",
      "source": [
        "# Input"
      ],
      "metadata": {
        "id": "0w0brICsslrO"
      }
    },
    {
      "cell_type": "markdown",
      "source": [
        "## Albhabets"
      ],
      "metadata": {
        "id": "P9vs3-2qsomM"
      }
    },
    {
      "cell_type": "code",
      "source": [
        "# Capital Letter\n",
        "def print_alphabets(n):\n",
        "    if n > 26:\n",
        "        print(\"There are only 26 alphabets in the English language.\")\n",
        "        return\n",
        "    for i in range(n):\n",
        "        print(chr(65 + i), end=\" \")\n",
        "\n",
        "num_of_alphabets = int(input(\"How many alphabets do you want to print? \"))\n",
        "print_alphabets(num_of_alphabets)\n"
      ],
      "metadata": {
        "colab": {
          "base_uri": "https://localhost:8080/"
        },
        "id": "nnLEXNSes3e5",
        "outputId": "b9e997ea-cd7f-4957-ff5d-13b83a0a6149"
      },
      "execution_count": null,
      "outputs": [
        {
          "output_type": "stream",
          "name": "stdout",
          "text": [
            "How many alphabets do you want to print? 3\n",
            "A B C "
          ]
        }
      ]
    },
    {
      "cell_type": "code",
      "source": [
        "# Small Letter\n",
        "def print_alphabets(n):\n",
        "    if n > 26:\n",
        "        print(\"There are only 26 alphabets in the English language.\")\n",
        "        return\n",
        "    for i in range(n):\n",
        "        print(chr(97 + i), end=\" \")\n",
        "\n",
        "num_of_alphabets = int(input(\"How many alphabets do you want to print? \"))\n",
        "print_alphabets(num_of_alphabets)\n"
      ],
      "metadata": {
        "colab": {
          "base_uri": "https://localhost:8080/"
        },
        "id": "YDLo3SuJtCVJ",
        "outputId": "64ce6e3b-7530-4544-eb7b-601ebe0f08a8"
      },
      "execution_count": null,
      "outputs": [
        {
          "output_type": "stream",
          "name": "stdout",
          "text": [
            "How many alphabets do you want to print? 4\n",
            "a b c d "
          ]
        }
      ]
    },
    {
      "cell_type": "markdown",
      "metadata": {
        "id": "_O9PEWoL9O9p"
      },
      "source": [
        "# String"
      ]
    },
    {
      "cell_type": "markdown",
      "metadata": {
        "id": "PtmrNydzzzT9"
      },
      "source": [
        "### Python_String"
      ]
    },
    {
      "cell_type": "code",
      "execution_count": null,
      "metadata": {
        "colab": {
          "base_uri": "https://localhost:8080/"
        },
        "id": "F24PUvKnz4Un",
        "outputId": "f40a4e03-1c83-4190-e463-30a25e7da87a"
      },
      "outputs": [
        {
          "output_type": "stream",
          "name": "stdout",
          "text": [
            "Myself nitin rajpoot,\n",
            "i am belong to lucknow,\n",
            "and i am pursuing Btech from BBD.\n"
          ]
        }
      ],
      "source": [
        "a= '''Myself nitin rajpoot,\n",
        "i am belong to lucknow,\n",
        "and i am pursuing Btech from BBD.'''\n",
        "print(a)\n"
      ]
    },
    {
      "cell_type": "code",
      "execution_count": null,
      "metadata": {
        "colab": {
          "base_uri": "https://localhost:8080/"
        },
        "id": "KW-UpDZK0R37",
        "outputId": "de117be2-f164-4988-c309-ca154a0c8259"
      },
      "outputs": [
        {
          "output_type": "stream",
          "name": "stdout",
          "text": [
            "\n",
            "\n",
            "l\n",
            "o\n",
            "n\n",
            "g\n"
          ]
        }
      ],
      "source": [
        "print(a[21])\n",
        "print(a[29])\n",
        "print(a[30])\n",
        "print(a[31])\n",
        "print(a[32])"
      ]
    },
    {
      "cell_type": "code",
      "execution_count": null,
      "metadata": {
        "colab": {
          "base_uri": "https://localhost:8080/"
        },
        "id": "ddaTY7Vp0fJa",
        "outputId": "289612af-c6f9-4748-b26c-4608eb4b26c8"
      },
      "outputs": [
        {
          "output_type": "stream",
          "name": "stdout",
          "text": [
            "N\n",
            "i\n",
            "t\n",
            "i\n",
            "n\n"
          ]
        }
      ],
      "source": [
        "# looping\n",
        "for i in 'Nitin':\n",
        "  print(i)"
      ]
    },
    {
      "cell_type": "code",
      "execution_count": null,
      "metadata": {
        "colab": {
          "base_uri": "https://localhost:8080/"
        },
        "id": "Qjwwfj3R1KZc",
        "outputId": "b96704c7-b1b7-4e26-cf76-33b242650fd0"
      },
      "outputs": [
        {
          "output_type": "stream",
          "name": "stdout",
          "text": [
            "False\n"
          ]
        }
      ],
      "source": [
        "# check by in\n",
        "a=\"nitin rajpoot\"\n",
        "print(\"free\" in a)"
      ]
    },
    {
      "cell_type": "code",
      "execution_count": null,
      "metadata": {
        "colab": {
          "base_uri": "https://localhost:8080/"
        },
        "id": "rDAQo1GB1WmY",
        "outputId": "8829af4e-fd48-406c-f1b5-9d39f02340ff"
      },
      "outputs": [
        {
          "output_type": "stream",
          "name": "stdout",
          "text": [
            "yes\n"
          ]
        }
      ],
      "source": [
        "if 'raj' in a:\n",
        "  print(\"yes\")"
      ]
    },
    {
      "cell_type": "markdown",
      "metadata": {
        "id": "3I-G8X6s11vo"
      },
      "source": [
        "###**Format_String**"
      ]
    },
    {
      "cell_type": "code",
      "execution_count": null,
      "metadata": {
        "colab": {
          "base_uri": "https://localhost:8080/"
        },
        "id": "Wk-Wq62p1dqk",
        "outputId": "490d2f90-8da4-4d66-d48e-7fca7eb57900"
      },
      "outputs": [
        {
          "output_type": "stream",
          "name": "stdout",
          "text": [
            "my name is nitin, i am 19\n"
          ]
        }
      ],
      "source": [
        "# f string\n",
        "age=19\n",
        "a=f\"my name is nitin, i am {age}\"\n",
        "print(a)\n"
      ]
    },
    {
      "cell_type": "code",
      "execution_count": null,
      "metadata": {
        "colab": {
          "base_uri": "https://localhost:8080/"
        },
        "id": "hCvvu4aF12wN",
        "outputId": "2b9bcf93-1d2f-4af5-ca36-20933d3a68d6"
      },
      "outputs": [
        {
          "output_type": "stream",
          "name": "stdout",
          "text": [
            "my height is 170.24\n"
          ]
        }
      ],
      "source": [
        "height=170.2435446\n",
        "a=f'my height is {height:.2f}'\n",
        "print(a)"
      ]
    },
    {
      "cell_type": "code",
      "execution_count": null,
      "metadata": {
        "id": "GGyByZX42u5t"
      },
      "outputs": [],
      "source": []
    },
    {
      "cell_type": "markdown",
      "metadata": {
        "id": "RoWPu9o23Eyq"
      },
      "source": [
        "##String_Method"
      ]
    },
    {
      "cell_type": "code",
      "execution_count": null,
      "metadata": {
        "colab": {
          "base_uri": "https://localhost:8080/"
        },
        "id": "DSPIddOX3Hht",
        "outputId": "a6e1de36-b4b6-4098-86a3-68da2af542d5"
      },
      "outputs": [
        {
          "output_type": "stream",
          "name": "stdout",
          "text": [
            "My name is nitin rajpoot\n"
          ]
        }
      ],
      "source": [
        "a=\"My name is Nitin Rajpoot\"\n",
        "print(a.capitalize())"
      ]
    },
    {
      "cell_type": "code",
      "execution_count": null,
      "metadata": {
        "colab": {
          "base_uri": "https://localhost:8080/"
        },
        "id": "EbLUo1al3QSR",
        "outputId": "1b3f5818-d1bf-4e39-f512-ef9a94e1cec1"
      },
      "outputs": [
        {
          "output_type": "stream",
          "name": "stdout",
          "text": [
            "my name is nitin rajpoot\n"
          ]
        }
      ],
      "source": [
        "print(a.casefold())"
      ]
    },
    {
      "cell_type": "code",
      "execution_count": null,
      "metadata": {
        "colab": {
          "base_uri": "https://localhost:8080/"
        },
        "id": "i6TIptM13UDW",
        "outputId": "a055921d-c609-4d37-b6c7-4cfde29f95ff"
      },
      "outputs": [
        {
          "output_type": "stream",
          "name": "stdout",
          "text": [
            "************Nitin*************\n"
          ]
        }
      ],
      "source": [
        "name='Nitin'\n",
        "print(name.center(30,'*'))"
      ]
    },
    {
      "cell_type": "code",
      "execution_count": null,
      "metadata": {
        "colab": {
          "base_uri": "https://localhost:8080/"
        },
        "id": "6U992Dq73gLD",
        "outputId": "c838e630-5035-46f2-e1dd-cba4fc770ff0"
      },
      "outputs": [
        {
          "output_type": "stream",
          "name": "stdout",
          "text": [
            "3\n"
          ]
        }
      ],
      "source": [
        "print(a.count('i'))"
      ]
    },
    {
      "cell_type": "code",
      "execution_count": null,
      "metadata": {
        "colab": {
          "base_uri": "https://localhost:8080/"
        },
        "id": "ZyBP9YgZ3hkc",
        "outputId": "112219e4-0758-4ec0-8ea4-2dae95ff32d2"
      },
      "outputs": [
        {
          "output_type": "stream",
          "name": "stdout",
          "text": [
            "11\n"
          ]
        }
      ],
      "source": [
        "print(a.find('Nitin'))"
      ]
    },
    {
      "cell_type": "code",
      "execution_count": null,
      "metadata": {
        "colab": {
          "base_uri": "https://localhost:8080/"
        },
        "id": "lRaZqICu4mQc",
        "outputId": "04b4a079-7047-486b-83ec-d12b5d03e004"
      },
      "outputs": [
        {
          "output_type": "stream",
          "name": "stdout",
          "text": [
            "My Name Is Nitin Rajpoot\n"
          ]
        }
      ],
      "source": [
        "print(a.title())"
      ]
    },
    {
      "cell_type": "code",
      "execution_count": null,
      "metadata": {
        "colab": {
          "base_uri": "https://localhost:8080/"
        },
        "id": "-xEIq2tO45bQ",
        "outputId": "407fc5f6-9bbf-4fcd-939c-e76b2ea8937a"
      },
      "outputs": [
        {
          "output_type": "stream",
          "name": "stdout",
          "text": [
            "False\n"
          ]
        }
      ],
      "source": [
        "print(a.isupper())"
      ]
    },
    {
      "cell_type": "code",
      "execution_count": null,
      "metadata": {
        "colab": {
          "base_uri": "https://localhost:8080/"
        },
        "id": "Z2QrhTTl48au",
        "outputId": "05eca85b-7d6a-440d-b70f-947d348f7220"
      },
      "outputs": [
        {
          "output_type": "stream",
          "name": "stdout",
          "text": [
            "False\n"
          ]
        }
      ],
      "source": [
        "print(a.isalpha())"
      ]
    },
    {
      "cell_type": "code",
      "execution_count": null,
      "metadata": {
        "colab": {
          "base_uri": "https://localhost:8080/"
        },
        "id": "EwHMx0MQ5EUB",
        "outputId": "475711c8-5029-4701-e612-0eb164868dc0"
      },
      "outputs": [
        {
          "output_type": "stream",
          "name": "stdout",
          "text": [
            "N*i*t*i*n\n"
          ]
        }
      ],
      "source": [
        "#Join\n",
        "name='Nitin'\n",
        "a='*'.join(name)\n",
        "print(a)\n"
      ]
    },
    {
      "cell_type": "code",
      "execution_count": null,
      "metadata": {
        "colab": {
          "base_uri": "https://localhost:8080/"
        },
        "id": "C8_XvXFO6GS-",
        "outputId": "9f62cc7e-548a-4954-c903-1b1bea59c26e"
      },
      "outputs": [
        {
          "output_type": "stream",
          "name": "stdout",
          "text": [
            "h**y**t\n"
          ]
        }
      ],
      "source": [
        "tuple=(\"h\",\"y\",\"t\")\n",
        "a='**'\n",
        "x=a.join(tuple)\n",
        "print(x)"
      ]
    },
    {
      "cell_type": "code",
      "execution_count": null,
      "metadata": {
        "colab": {
          "base_uri": "https://localhost:8080/"
        },
        "id": "MbwOknEX6bqW",
        "outputId": "8045929d-3d0e-40d9-e220-721874787f37"
      },
      "outputs": [
        {
          "output_type": "stream",
          "name": "stdout",
          "text": [
            "['My', 'name,', 'is', 'Nitin']\n"
          ]
        }
      ],
      "source": [
        "#Split\n",
        "name=\"My name, is Nitin\"\n",
        "a=name.split()\n",
        "print(a)"
      ]
    },
    {
      "cell_type": "code",
      "execution_count": null,
      "metadata": {
        "colab": {
          "base_uri": "https://localhost:8080/"
        },
        "id": "zN_Cfcsc6viD",
        "outputId": "8057676c-7eb2-4336-be13-f5d435ef9e09"
      },
      "outputs": [
        {
          "output_type": "stream",
          "name": "stdout",
          "text": [
            "['My name', ' is Nitin']\n"
          ]
        }
      ],
      "source": [
        "#Split\n",
        "name=\"My name, is Nitin\"\n",
        "a=name.split(',')\n",
        "print(a)"
      ]
    },
    {
      "cell_type": "code",
      "execution_count": null,
      "metadata": {
        "colab": {
          "base_uri": "https://localhost:8080/"
        },
        "id": "riyWdlxf6zEA",
        "outputId": "07aa6401-e945-4fc0-89f2-ec21843482e0"
      },
      "outputs": [
        {
          "output_type": "stream",
          "name": "stdout",
          "text": [
            "nitin    rajpoot\n"
          ]
        }
      ],
      "source": [
        "name='  nitin    rajpoot '\n",
        "print(name.strip())"
      ]
    },
    {
      "cell_type": "markdown",
      "source": [
        "**You are given a string. Split the string on a \" \" (space) delimiter and join using a - hyphen.**"
      ],
      "metadata": {
        "id": "PnCkui3H5Ixn"
      }
    },
    {
      "cell_type": "code",
      "execution_count": null,
      "metadata": {
        "id": "j8rHnAD_69rn",
        "colab": {
          "base_uri": "https://localhost:8080/"
        },
        "outputId": "5dc800ea-efe5-4223-eb37-06ed35ffc893"
      },
      "outputs": [
        {
          "output_type": "stream",
          "name": "stdout",
          "text": [
            "nitin\n",
            "nitin\n"
          ]
        }
      ],
      "source": [
        "def split_and_join(line):\n",
        "    # write your code here\n",
        "    split_line=list(line.split(\" \"))\n",
        "    join_line=\"-\".join(split_line)\n",
        "    return join_line\n",
        "\n",
        "\n",
        "if __name__ == '__main__':\n",
        "    line = input()\n",
        "    result = split_and_join(line)\n",
        "    print(result)"
      ]
    },
    {
      "cell_type": "markdown",
      "source": [
        "** Your task is to find out if the string  contains: alphanumeric characters, alphabetical characters, digits, lowercase and uppercase characters.**"
      ],
      "metadata": {
        "id": "GHGGwrNGnbHE"
      }
    },
    {
      "cell_type": "code",
      "source": [
        "class StringUtils:\n",
        "    @staticmethod\n",
        "    def lower(a):\n",
        "        for x in a:\n",
        "            if x.islower():\n",
        "                return True\n",
        "        return False\n",
        "\n",
        "    @staticmethod\n",
        "    def upper(a):\n",
        "        for x in a:\n",
        "            if x.isupper():\n",
        "                return True\n",
        "        return False\n",
        "\n",
        "    @staticmethod\n",
        "    def alphanumeric(a):\n",
        "        for x in a:\n",
        "            if x.isalnum():\n",
        "                return True\n",
        "        return False\n",
        "\n",
        "    @staticmethod\n",
        "    def alphabetical(a):\n",
        "        for x in a:\n",
        "            if x.isalpha():\n",
        "                return True\n",
        "        return False\n",
        "\n",
        "    @staticmethod\n",
        "    def digit(a):\n",
        "        for x in a:\n",
        "            if x.isdigit():\n",
        "                return True\n",
        "        return False\n",
        "\n",
        "if __name__ == '__main__':\n",
        "    a = input(\"Enter a string: \")\n",
        "    print(StringUtils.alphanumeric(a))\n",
        "    print(StringUtils.alphabetical(a))\n",
        "    print(StringUtils.digit(a))\n",
        "    print(StringUtils.lower(a))\n",
        "    print(StringUtils.upper(a))\n"
      ],
      "metadata": {
        "colab": {
          "base_uri": "https://localhost:8080/"
        },
        "id": "L8n6ye-HnhXB",
        "outputId": "8fbb76fa-4b50-41cf-9891-ed7f30ef96e1"
      },
      "execution_count": null,
      "outputs": [
        {
          "output_type": "stream",
          "name": "stdout",
          "text": [
            "Enter a string: nitin\n",
            "True\n",
            "True\n",
            "False\n",
            "True\n",
            "False\n"
          ]
        }
      ]
    },
    {
      "cell_type": "markdown",
      "source": [
        "**Use of ljust,rjust,center for arrangement**"
      ],
      "metadata": {
        "id": "G9P0cSUHvgKz"
      }
    },
    {
      "cell_type": "code",
      "source": [
        "#Replace all ______ with rjust, ljust or center.\n",
        "\n",
        "thickness = int(input()) #This must be an odd number\n",
        "c = 'H'\n",
        "\n",
        "#Top Cone\n",
        "for i in range(thickness):\n",
        "    print((c*i).rjust(thickness-1)+c+(c*i).ljust(thickness-1))\n",
        "\n",
        "#Top Pillars\n",
        "for i in range(thickness+1):\n",
        "    print((c*thickness).center(thickness*2)+(c*thickness).center(thickness*6))\n",
        "\n",
        "#Middle Belt\n",
        "for i in range((thickness+1)//2):\n",
        "    print((c*thickness*5).center(thickness*6))\n",
        "\n",
        "#Bottom Pillars\n",
        "for i in range(thickness+1):\n",
        "    print((c*thickness).center(thickness*2)+(c*thickness).center(thickness*6))\n",
        "\n",
        "#Bottom Cone\n",
        "for i in range(thickness):\n",
        "    print(((c*(thickness-i-1)).rjust(thickness)+c+(c*(thickness-i-1)).ljust(thickness)).rjust(thickness*6))"
      ],
      "metadata": {
        "colab": {
          "base_uri": "https://localhost:8080/"
        },
        "id": "_FGH5OBSpvfE",
        "outputId": "2b4804af-916b-43d0-a0f7-cb3c256ec961"
      },
      "execution_count": null,
      "outputs": [
        {
          "output_type": "stream",
          "name": "stdout",
          "text": [
            "5\n",
            "    H    \n",
            "   HHH   \n",
            "  HHHHH  \n",
            " HHHHHHH \n",
            "HHHHHHHHH\n",
            "  HHHHH               HHHHH             \n",
            "  HHHHH               HHHHH             \n",
            "  HHHHH               HHHHH             \n",
            "  HHHHH               HHHHH             \n",
            "  HHHHH               HHHHH             \n",
            "  HHHHH               HHHHH             \n",
            "  HHHHHHHHHHHHHHHHHHHHHHHHH   \n",
            "  HHHHHHHHHHHHHHHHHHHHHHHHH   \n",
            "  HHHHHHHHHHHHHHHHHHHHHHHHH   \n",
            "  HHHHH               HHHHH             \n",
            "  HHHHH               HHHHH             \n",
            "  HHHHH               HHHHH             \n",
            "  HHHHH               HHHHH             \n",
            "  HHHHH               HHHHH             \n",
            "  HHHHH               HHHHH             \n",
            "                    HHHHHHHHH \n",
            "                     HHHHHHH  \n",
            "                      HHHHH   \n",
            "                       HHH    \n",
            "                        H     \n"
          ]
        }
      ]
    },
    {
      "cell_type": "markdown",
      "source": [
        "**Wrap the string into a given paragraph**\n"
      ],
      "metadata": {
        "id": "G1NfRB530_I-"
      }
    },
    {
      "cell_type": "code",
      "source": [
        "import textwrap\n",
        "\n",
        "def wrap(string, max_width):\n",
        "  wrap_string=textwrap.TextWrapper(width=max_width)\n",
        "  word_list=wrap_string.wrap(text=string) #string is variable name\n",
        "  return '\\n'.join(word_list)\n",
        "\n",
        "if __name__ == '__main__':\n",
        "    string, max_width = input(), int(input())\n",
        "    result = wrap(string, max_width)\n",
        "    print(result)"
      ],
      "metadata": {
        "colab": {
          "base_uri": "https://localhost:8080/"
        },
        "id": "XYBJ_nlrxLJc",
        "outputId": "eb401820-a91a-4eb3-bc57-f660528b72e5"
      },
      "execution_count": null,
      "outputs": [
        {
          "output_type": "stream",
          "name": "stdout",
          "text": [
            "nitin\n",
            "3\n",
            "nit\n",
            "in\n"
          ]
        }
      ]
    },
    {
      "cell_type": "markdown",
      "source": [
        "## Capitalized"
      ],
      "metadata": {
        "id": "CIidmNfe32cj"
      }
    },
    {
      "cell_type": "code",
      "source": [
        "def solve(s):\n",
        "  for x in s.split():\n",
        "    s=s.replace(x,x.capitalize())\n",
        "  return s\n",
        "\n",
        "if __name__ == '__main__':\n",
        "    s = input()\n",
        "    result = solve(s)\n",
        "    print(result + '\\n')\n"
      ],
      "metadata": {
        "colab": {
          "base_uri": "https://localhost:8080/"
        },
        "id": "CgJiDG5c2ocC",
        "outputId": "5e51719c-da7b-4b63-bbe2-686127cb9bfa"
      },
      "execution_count": null,
      "outputs": [
        {
          "output_type": "stream",
          "name": "stdout",
          "text": [
            "ntin\n",
            "Ntin\n",
            "\n"
          ]
        }
      ]
    },
    {
      "cell_type": "markdown",
      "source": [
        "##Count Substring"
      ],
      "metadata": {
        "id": "Nw6X8uVczxFk"
      }
    },
    {
      "cell_type": "code",
      "source": [
        "ddef count_substring(string, sub_string):\n",
        "\n",
        "  count=0\n",
        "  for x in range(len(string)):\n",
        "    if string[x:].startswith(sub_string):\n",
        "      count +=1\n",
        "  return count\n",
        "\n",
        "if __name__ == '__main__':\n",
        "    string = input().strip()\n",
        "    sub_string = input().strip()\n",
        "\n",
        "    count = count_substring(string, sub_string)\n",
        "    print(count)"
      ],
      "metadata": {
        "colab": {
          "base_uri": "https://localhost:8080/"
        },
        "id": "ZVoZWQ3ozwU8",
        "outputId": "33c6d841-c551-4a9f-a4c3-2dcf869408a2"
      },
      "execution_count": null,
      "outputs": [
        {
          "output_type": "stream",
          "name": "stdout",
          "text": [
            "raosod\n",
            "sdsf\n",
            "0\n"
          ]
        }
      ]
    },
    {
      "cell_type": "markdown",
      "source": [
        "# Operators"
      ],
      "metadata": {
        "id": "hRLTyOQs62DP"
      }
    },
    {
      "cell_type": "markdown",
      "metadata": {
        "id": "US_gsZ6096aj"
      },
      "source": [
        "### Bitwise_Operator"
      ]
    },
    {
      "cell_type": "code",
      "execution_count": null,
      "metadata": {
        "colab": {
          "base_uri": "https://localhost:8080/"
        },
        "id": "g5_TzpdG9-Y3",
        "outputId": "032957f8-5d97-4c69-e77f-2b4023fdfac8"
      },
      "outputs": [
        {
          "output_type": "stream",
          "name": "stdout",
          "text": [
            "10\n"
          ]
        }
      ],
      "source": [
        "# & -> return 1 if both are 1\n",
        "print(110 & 10)"
      ]
    },
    {
      "cell_type": "code",
      "execution_count": null,
      "metadata": {
        "colab": {
          "base_uri": "https://localhost:8080/"
        },
        "id": "afQwASUF-N-1",
        "outputId": "e6a88dfd-fcde-4b6c-f9b9-19daa15cfab3"
      },
      "outputs": [
        {
          "output_type": "stream",
          "name": "stdout",
          "text": [
            "2\n"
          ]
        }
      ],
      "source": [
        "a=110\n",
        "b=10\n",
        "c=(a & b)\n",
        "print(int(str(c),2))"
      ]
    },
    {
      "cell_type": "code",
      "execution_count": null,
      "metadata": {
        "colab": {
          "base_uri": "https://localhost:8080/"
        },
        "id": "S-_jHfut-kkv",
        "outputId": "b34c85d2-589c-44c1-8228-4042e28a8132"
      },
      "outputs": [
        {
          "output_type": "stream",
          "name": "stdout",
          "text": [
            "100\n",
            "4\n"
          ]
        }
      ],
      "source": [
        "n = 4\n",
        "binary = format(n, 'b')\n",
        "print(binary)  # Output: '100'\n",
        "binary = '100'\n",
        "decimal = int(binary, 2)\n",
        "print(decimal)  # Output: 4"
      ]
    },
    {
      "cell_type": "code",
      "execution_count": null,
      "metadata": {
        "colab": {
          "base_uri": "https://localhost:8080/"
        },
        "id": "CgR_wWn-_87A",
        "outputId": "a7e39e0a-f6bb-4396-832b-49224f215ad7"
      },
      "outputs": [
        {
          "output_type": "stream",
          "name": "stdout",
          "text": [
            "110\n"
          ]
        }
      ],
      "source": [
        "# decimal to binary\n",
        "num=6\n",
        "binary=format(num,'b')\n",
        "print(binary)"
      ]
    },
    {
      "cell_type": "code",
      "execution_count": null,
      "metadata": {
        "colab": {
          "base_uri": "https://localhost:8080/"
        },
        "id": "JiAoqTwuAckX",
        "outputId": "c651d9b8-40cc-468e-bd57-d40278083593"
      },
      "outputs": [
        {
          "output_type": "stream",
          "name": "stdout",
          "text": [
            "6\n"
          ]
        }
      ],
      "source": [
        "num=110\n",
        "dec=int(str(num),2)\n",
        "print(dec)"
      ]
    },
    {
      "cell_type": "code",
      "execution_count": null,
      "metadata": {
        "colab": {
          "base_uri": "https://localhost:8080/"
        },
        "id": "UxuNz53sApX9",
        "outputId": "db9e687a-4f0e-44cd-e77f-ce8c770d943a"
      },
      "outputs": [
        {
          "output_type": "stream",
          "name": "stdout",
          "text": [
            "111\n"
          ]
        }
      ],
      "source": [
        "# OR(|) return 1 when one of 1\n",
        "a=110\n",
        "b=1\n",
        "print(a|b)"
      ]
    },
    {
      "cell_type": "code",
      "execution_count": null,
      "metadata": {
        "colab": {
          "base_uri": "https://localhost:8080/"
        },
        "id": "dvwhzdq4BQ4Z",
        "outputId": "b0f85164-5d3d-453b-da2e-5aded1d218fa"
      },
      "outputs": [
        {
          "output_type": "stream",
          "name": "stdout",
          "text": [
            "101\n"
          ]
        }
      ],
      "source": [
        "#XOR(^) when both are same its return 0\n",
        "a=110\n",
        "b=11\n",
        "print(a^b)"
      ]
    },
    {
      "cell_type": "code",
      "execution_count": null,
      "metadata": {
        "colab": {
          "base_uri": "https://localhost:8080/"
        },
        "id": "e-nqwG1BB33W",
        "outputId": "ea31dba0-b04a-4bb6-d771-47bb259c2d7e"
      },
      "outputs": [
        {
          "output_type": "stream",
          "name": "stdout",
          "text": [
            "-11\n"
          ]
        }
      ],
      "source": [
        "#Not(~) invert 100001\n",
        "a=10\n",
        "print(~a)"
      ]
    },
    {
      "cell_type": "code",
      "execution_count": null,
      "metadata": {
        "id": "rZMapFZxCEOi"
      },
      "outputs": [],
      "source": []
    },
    {
      "cell_type": "markdown",
      "source": [
        "# Class/Methods"
      ],
      "metadata": {
        "id": "pipcXp8kK9re"
      }
    },
    {
      "cell_type": "code",
      "source": [
        "class Person:\n",
        "  def __init__(self,name,age):\n",
        "    self.name=name\n",
        "    self.age=age\n",
        "  def __str__(self):\n",
        "    return f\"my name is {self.name}\""
      ],
      "metadata": {
        "id": "4E8-4Pz3LDXt"
      },
      "execution_count": null,
      "outputs": []
    },
    {
      "cell_type": "code",
      "source": [
        "a=Person('nitin',19)"
      ],
      "metadata": {
        "id": "4UarshDBLjo-"
      },
      "execution_count": null,
      "outputs": []
    },
    {
      "cell_type": "code",
      "source": [
        "print(str(a))"
      ],
      "metadata": {
        "colab": {
          "base_uri": "https://localhost:8080/"
        },
        "id": "8zYhsGHKLor_",
        "outputId": "682c834b-d21e-4011-da3d-8d41ff775cc4"
      },
      "execution_count": null,
      "outputs": [
        {
          "output_type": "stream",
          "name": "stdout",
          "text": [
            "my name is nitin\n"
          ]
        }
      ]
    },
    {
      "cell_type": "code",
      "source": [],
      "metadata": {
        "id": "F6sQq7GQLsm_"
      },
      "execution_count": null,
      "outputs": []
    },
    {
      "cell_type": "markdown",
      "source": [
        "# Inheritance"
      ],
      "metadata": {
        "id": "RaSM8sYCNd54"
      }
    },
    {
      "cell_type": "code",
      "source": [
        "class Person:\n",
        "  def __init__(self,fname,lname):\n",
        "    self.fname=fname\n",
        "    self.lname=lname\n",
        "\n",
        "class Student(Person):\n",
        "  def __init__(self,fname,lname,age):\n",
        "    super().__init__(fname,lname)\n",
        "    self.age=age\n",
        "  def data(self):\n",
        "    print(f\"My name is {self.fname} {self.lname} and I am {self.age} year old\")\n",
        "  def _str__(self):\n",
        "     return f\"My name is {self.fname} {self.lname}\" #str return not\n",
        "\n",
        "a=Student(\"Nitin\",\"Kumar\",19)"
      ],
      "metadata": {
        "id": "gNLFdxjeNh9g"
      },
      "execution_count": null,
      "outputs": []
    },
    {
      "cell_type": "code",
      "source": [
        "a.data()"
      ],
      "metadata": {
        "colab": {
          "base_uri": "https://localhost:8080/"
        },
        "id": "OEb1GYU6PCYu",
        "outputId": "5cb524a0-4af8-4580-b533-836ad91c085a"
      },
      "execution_count": null,
      "outputs": [
        {
          "output_type": "stream",
          "name": "stdout",
          "text": [
            "My name is Nitin Kumar and I am 19 year old\n"
          ]
        }
      ]
    },
    {
      "cell_type": "code",
      "source": [
        "print(str(a))"
      ],
      "metadata": {
        "colab": {
          "base_uri": "https://localhost:8080/"
        },
        "id": "49TH0xjRPjyJ",
        "outputId": "48f0c763-42ff-4f14-c6c9-a41360e56c05"
      },
      "execution_count": null,
      "outputs": [
        {
          "output_type": "stream",
          "name": "stdout",
          "text": [
            "<__main__.Student object at 0x7da9b06d1e40>\n"
          ]
        }
      ]
    },
    {
      "cell_type": "code",
      "source": [],
      "metadata": {
        "id": "6yYBWeFoQ7fl"
      },
      "execution_count": null,
      "outputs": []
    },
    {
      "cell_type": "markdown",
      "source": [
        "# Iterator"
      ],
      "metadata": {
        "id": "HbJdHNUZXpTC"
      }
    },
    {
      "cell_type": "code",
      "source": [
        "name= \"Nitin\"\n",
        "a = iter(name)\n",
        "print(next(a))\n",
        "print(next(a))\n",
        "print(next(a))\n",
        "print(next(a))\n",
        "print(next(a))"
      ],
      "metadata": {
        "colab": {
          "base_uri": "https://localhost:8080/"
        },
        "id": "7bCYt4zTX17C",
        "outputId": "58dd03c0-1721-485a-e9c3-baf86f8f5f6e"
      },
      "execution_count": null,
      "outputs": [
        {
          "output_type": "stream",
          "name": "stdout",
          "text": [
            "N\n",
            "i\n",
            "t\n",
            "i\n",
            "n\n"
          ]
        }
      ]
    },
    {
      "cell_type": "code",
      "source": [
        "mytuple=(\"a\",\"b\",\"c\",\"d\")\n",
        "a=iter(mytuple)\n",
        "print(next(a))\n",
        "print(next(a))\n",
        "print(next(a))\n",
        "print(next(a))"
      ],
      "metadata": {
        "colab": {
          "base_uri": "https://localhost:8080/"
        },
        "id": "XQTUj8uJYD4U",
        "outputId": "f57c2116-8dd1-49ae-a901-905873ba8cac"
      },
      "execution_count": null,
      "outputs": [
        {
          "output_type": "stream",
          "name": "stdout",
          "text": [
            "a\n",
            "b\n",
            "c\n",
            "d\n"
          ]
        }
      ]
    },
    {
      "cell_type": "code",
      "source": [
        "class Mynumbers:\n",
        "  def __iter__(self):\n",
        "    self.a=1\n",
        "    return self\n",
        "  def __next__(self):\n",
        "    x=self.a\n",
        "    self.a +=1\n",
        "    return x\n",
        "\n",
        "myclass = Mynumbers()\n",
        "a=iter(myclass)\n",
        "print(next(a))\n",
        "print(next(a))\n",
        "print(next(a))\n",
        "print(next(a))"
      ],
      "metadata": {
        "colab": {
          "base_uri": "https://localhost:8080/"
        },
        "id": "JLxHzWEvYj36",
        "outputId": "5f374f3b-2d11-46be-8c25-81ba91b8995b"
      },
      "execution_count": null,
      "outputs": [
        {
          "output_type": "stream",
          "name": "stdout",
          "text": [
            "1\n",
            "2\n",
            "3\n",
            "4\n"
          ]
        }
      ]
    },
    {
      "cell_type": "code",
      "source": [
        "class Numbers:\n",
        "  def __iter__(self):\n",
        "    self.a=1\n",
        "    return self\n",
        "  def __next__(self):\n",
        "    if self.a <= 20:\n",
        "      x=self.a\n",
        "      self.a += 1\n",
        "      return x\n",
        "    else:\n",
        "      raise StopIteration\n",
        "\n",
        "myclass = Numbers()\n",
        "a= iter(myclass)\n",
        "\n",
        "for x in a:\n",
        "  print(x)"
      ],
      "metadata": {
        "colab": {
          "base_uri": "https://localhost:8080/"
        },
        "id": "ejm1xA9PZMmi",
        "outputId": "68fc317f-9ec9-4915-e26d-6b9489a459c8"
      },
      "execution_count": null,
      "outputs": [
        {
          "output_type": "stream",
          "name": "stdout",
          "text": [
            "1\n",
            "2\n",
            "3\n",
            "4\n",
            "5\n",
            "6\n",
            "7\n",
            "8\n",
            "9\n",
            "10\n",
            "11\n",
            "12\n",
            "13\n",
            "14\n",
            "15\n",
            "16\n",
            "17\n",
            "18\n",
            "19\n",
            "20\n"
          ]
        }
      ]
    },
    {
      "cell_type": "code",
      "source": [],
      "metadata": {
        "id": "5bGblF1ecYSl"
      },
      "execution_count": null,
      "outputs": []
    },
    {
      "cell_type": "markdown",
      "source": [
        "# Polymorphism\n",
        "**Multiple classes with same method name**"
      ],
      "metadata": {
        "id": "1tLdhGDKJBa3"
      }
    },
    {
      "cell_type": "code",
      "source": [
        "class Car:\n",
        "  def __init__(self,brand,model):\n",
        "    self.brand=brand\n",
        "    self.model=model\n",
        "  def move(self):\n",
        "    print(\"drive!\")\n",
        "\n",
        "class Boat:\n",
        "  def __init__(self,brand,model):\n",
        "    self.brand=brand\n",
        "    self.model=model\n",
        "  def move(self):\n",
        "    print(\"sail!\")\n",
        "\n",
        "class Plane:\n",
        "  def __init__(self,brand,model):\n",
        "    self.brand=brand\n",
        "    self.model=model\n",
        "  def move(self):\n",
        "    print(\"fly!\")\n",
        "\n",
        "car1=Car(\"Ford\", \"Mustang\")\n",
        "boat1=Boat(\"Ibiza\", \"Touring 20\")\n",
        "plane1=Plane(\"Boeing\", \"747\")\n",
        "\n",
        "for x in (car1,boat1,plane1):\n",
        "  x.move()"
      ],
      "metadata": {
        "colab": {
          "base_uri": "https://localhost:8080/"
        },
        "id": "6m6MOtZXJHS_",
        "outputId": "6ba60483-0ed7-4416-8e0b-f94c92d90880"
      },
      "execution_count": null,
      "outputs": [
        {
          "output_type": "stream",
          "name": "stdout",
          "text": [
            "drive!\n",
            "sail!\n",
            "fly!\n"
          ]
        }
      ]
    },
    {
      "cell_type": "markdown",
      "source": [
        "#Project"
      ],
      "metadata": {
        "id": "t9SwNTc5jQiG"
      }
    },
    {
      "cell_type": "markdown",
      "source": [
        "##Guessing a number"
      ],
      "metadata": {
        "id": "6E2V9f6Mmike"
      }
    },
    {
      "cell_type": "code",
      "source": [
        "import random\n",
        "import math\n",
        "\n",
        "a=int(input('Enter lower range:-'))\n",
        "b=int(input('Enter upper range:-'))\n",
        "x=random.randint(a,b)\n",
        "\n",
        "print(f'you have only {round(math.log(b-a+1,2))} chances to guess a number')\n",
        "\n",
        "count=0\n",
        "\n",
        "while count < math.log(b-a+1,2):\n",
        "  count += 1\n",
        "\n",
        "  guess=int(input('Guess a number:-'))\n",
        "\n",
        "  if guess == x:\n",
        "    print(\"Congratulations!! you did it in \",count,'try')\n",
        "    break\n",
        "  elif guess < x:\n",
        "    print('Oops!! your guess was too low')\n",
        "  else:\n",
        "    print('Oops!! your guess was too high')\n",
        "\n",
        "if count > math.log(b-a+1,2):\n",
        "  print(f'The number is {x}')\n",
        "  print('You have lost all your chances Better luck next time!!')"
      ],
      "metadata": {
        "id": "aknXITTacrTo",
        "colab": {
          "base_uri": "https://localhost:8080/",
          "height": 426
        },
        "outputId": "7775da89-3875-4f2e-adee-f66e6387baff"
      },
      "execution_count": null,
      "outputs": [
        {
          "output_type": "stream",
          "name": "stdout",
          "text": [
            "Enter lower range:-3\n",
            "Enter upper range:-7\n",
            "you have only 2 chances to guess a number\n"
          ]
        },
        {
          "output_type": "error",
          "ename": "KeyboardInterrupt",
          "evalue": "Interrupted by user",
          "traceback": [
            "\u001b[0;31m---------------------------------------------------------------------------\u001b[0m",
            "\u001b[0;31mKeyboardInterrupt\u001b[0m                         Traceback (most recent call last)",
            "\u001b[0;32m<ipython-input-50-b8bb6ef52a98>\u001b[0m in \u001b[0;36m<cell line: 12>\u001b[0;34m()\u001b[0m\n\u001b[1;32m     13\u001b[0m   \u001b[0mcount\u001b[0m \u001b[0;34m+=\u001b[0m \u001b[0;36m1\u001b[0m\u001b[0;34m\u001b[0m\u001b[0;34m\u001b[0m\u001b[0m\n\u001b[1;32m     14\u001b[0m \u001b[0;34m\u001b[0m\u001b[0m\n\u001b[0;32m---> 15\u001b[0;31m   \u001b[0mguess\u001b[0m\u001b[0;34m=\u001b[0m\u001b[0mint\u001b[0m\u001b[0;34m(\u001b[0m\u001b[0minput\u001b[0m\u001b[0;34m(\u001b[0m\u001b[0;34m'Guess a number:-'\u001b[0m\u001b[0;34m)\u001b[0m\u001b[0;34m)\u001b[0m\u001b[0;34m\u001b[0m\u001b[0;34m\u001b[0m\u001b[0m\n\u001b[0m\u001b[1;32m     16\u001b[0m \u001b[0;34m\u001b[0m\u001b[0m\n\u001b[1;32m     17\u001b[0m   \u001b[0;32mif\u001b[0m \u001b[0mguess\u001b[0m \u001b[0;34m==\u001b[0m \u001b[0mx\u001b[0m\u001b[0;34m:\u001b[0m\u001b[0;34m\u001b[0m\u001b[0;34m\u001b[0m\u001b[0m\n",
            "\u001b[0;32m/usr/local/lib/python3.10/dist-packages/ipykernel/kernelbase.py\u001b[0m in \u001b[0;36mraw_input\u001b[0;34m(self, prompt)\u001b[0m\n\u001b[1;32m    849\u001b[0m                 \u001b[0;34m\"raw_input was called, but this frontend does not support input requests.\"\u001b[0m\u001b[0;34m\u001b[0m\u001b[0;34m\u001b[0m\u001b[0m\n\u001b[1;32m    850\u001b[0m             )\n\u001b[0;32m--> 851\u001b[0;31m         return self._input_request(str(prompt),\n\u001b[0m\u001b[1;32m    852\u001b[0m             \u001b[0mself\u001b[0m\u001b[0;34m.\u001b[0m\u001b[0m_parent_ident\u001b[0m\u001b[0;34m,\u001b[0m\u001b[0;34m\u001b[0m\u001b[0;34m\u001b[0m\u001b[0m\n\u001b[1;32m    853\u001b[0m             \u001b[0mself\u001b[0m\u001b[0;34m.\u001b[0m\u001b[0m_parent_header\u001b[0m\u001b[0;34m,\u001b[0m\u001b[0;34m\u001b[0m\u001b[0;34m\u001b[0m\u001b[0m\n",
            "\u001b[0;32m/usr/local/lib/python3.10/dist-packages/ipykernel/kernelbase.py\u001b[0m in \u001b[0;36m_input_request\u001b[0;34m(self, prompt, ident, parent, password)\u001b[0m\n\u001b[1;32m    893\u001b[0m             \u001b[0;32mexcept\u001b[0m \u001b[0mKeyboardInterrupt\u001b[0m\u001b[0;34m:\u001b[0m\u001b[0;34m\u001b[0m\u001b[0;34m\u001b[0m\u001b[0m\n\u001b[1;32m    894\u001b[0m                 \u001b[0;31m# re-raise KeyboardInterrupt, to truncate traceback\u001b[0m\u001b[0;34m\u001b[0m\u001b[0;34m\u001b[0m\u001b[0m\n\u001b[0;32m--> 895\u001b[0;31m                 \u001b[0;32mraise\u001b[0m \u001b[0mKeyboardInterrupt\u001b[0m\u001b[0;34m(\u001b[0m\u001b[0;34m\"Interrupted by user\"\u001b[0m\u001b[0;34m)\u001b[0m \u001b[0;32mfrom\u001b[0m \u001b[0;32mNone\u001b[0m\u001b[0;34m\u001b[0m\u001b[0;34m\u001b[0m\u001b[0m\n\u001b[0m\u001b[1;32m    896\u001b[0m             \u001b[0;32mexcept\u001b[0m \u001b[0mException\u001b[0m \u001b[0;32mas\u001b[0m \u001b[0me\u001b[0m\u001b[0;34m:\u001b[0m\u001b[0;34m\u001b[0m\u001b[0;34m\u001b[0m\u001b[0m\n\u001b[1;32m    897\u001b[0m                 \u001b[0mself\u001b[0m\u001b[0;34m.\u001b[0m\u001b[0mlog\u001b[0m\u001b[0;34m.\u001b[0m\u001b[0mwarning\u001b[0m\u001b[0;34m(\u001b[0m\u001b[0;34m\"Invalid Message:\"\u001b[0m\u001b[0;34m,\u001b[0m \u001b[0mexc_info\u001b[0m\u001b[0;34m=\u001b[0m\u001b[0;32mTrue\u001b[0m\u001b[0;34m)\u001b[0m\u001b[0;34m\u001b[0m\u001b[0;34m\u001b[0m\u001b[0m\n",
            "\u001b[0;31mKeyboardInterrupt\u001b[0m: Interrupted by user"
          ]
        }
      ]
    },
    {
      "cell_type": "markdown",
      "source": [
        "#Map func"
      ],
      "metadata": {
        "id": "xIIyMrllAqsv"
      }
    },
    {
      "cell_type": "code",
      "source": [
        "list_of_input = list(map(str.lower, input().split()))\n",
        "print(list_of_input)"
      ],
      "metadata": {
        "id": "7ktaaNMAAs4f"
      },
      "execution_count": null,
      "outputs": []
    },
    {
      "cell_type": "code",
      "source": [],
      "metadata": {
        "id": "vbn9QNNGrmmm"
      },
      "execution_count": null,
      "outputs": []
    },
    {
      "cell_type": "markdown",
      "source": [
        "#List"
      ],
      "metadata": {
        "id": "pQIQlLj642GH"
      }
    },
    {
      "cell_type": "markdown",
      "source": [
        "##declare list"
      ],
      "metadata": {
        "id": "TjjoifLr6Aqi"
      }
    },
    {
      "cell_type": "code",
      "source": [
        "var=[]\n",
        "print(type(var))"
      ],
      "metadata": {
        "id": "QJMSMtDAA_W6"
      },
      "execution_count": null,
      "outputs": []
    },
    {
      "cell_type": "markdown",
      "source": [
        "##append"
      ],
      "metadata": {
        "id": "mSNhzc256E2G"
      }
    },
    {
      "cell_type": "code",
      "source": [
        "var.append(1)\n",
        "print(var)"
      ],
      "metadata": {
        "id": "hJXar11R5EQd"
      },
      "execution_count": null,
      "outputs": []
    },
    {
      "cell_type": "code",
      "source": [
        "#create a function for append list\n",
        "def app(a):\n",
        "  var.append(a)\n",
        "  return var"
      ],
      "metadata": {
        "id": "jiS_kNUb5NMq"
      },
      "execution_count": null,
      "outputs": []
    },
    {
      "cell_type": "code",
      "source": [
        "app(10)"
      ],
      "metadata": {
        "id": "9zW7T5Ef5ZoU"
      },
      "execution_count": null,
      "outputs": []
    },
    {
      "cell_type": "code",
      "source": [
        "app(20)"
      ],
      "metadata": {
        "id": "d22u05u95bVo"
      },
      "execution_count": null,
      "outputs": []
    },
    {
      "cell_type": "markdown",
      "source": [
        "##insert"
      ],
      "metadata": {
        "id": "o0XASQCE6KDl"
      }
    },
    {
      "cell_type": "code",
      "source": [
        "#create another function to insert values\n",
        "def ins(a,b):\n",
        "  var.insert(a,b) #insert(index,value)\n",
        "  return var"
      ],
      "metadata": {
        "id": "20Ev_EGa5dbQ"
      },
      "execution_count": null,
      "outputs": []
    },
    {
      "cell_type": "code",
      "source": [
        "ins(1,20)"
      ],
      "metadata": {
        "id": "DOpU9ccX5t6h"
      },
      "execution_count": null,
      "outputs": []
    },
    {
      "cell_type": "code",
      "source": [
        "ins(4,44)"
      ],
      "metadata": {
        "id": "7Dr4lfCh5vnW"
      },
      "execution_count": null,
      "outputs": []
    },
    {
      "cell_type": "markdown",
      "source": [
        "##Remove"
      ],
      "metadata": {
        "id": "l4gtbbbUo80v"
      }
    },
    {
      "cell_type": "code",
      "source": [
        "#remove first occurence of elements\n",
        "list=[1,2,3,4,5,5]\n",
        "list.remove(1)\n",
        "print(list)"
      ],
      "metadata": {
        "id": "jKC60uh1o7Qn"
      },
      "execution_count": null,
      "outputs": []
    },
    {
      "cell_type": "code",
      "source": [
        "list.remove(5)\n",
        "print(list)"
      ],
      "metadata": {
        "id": "vTJsw7SPpROT"
      },
      "execution_count": null,
      "outputs": []
    },
    {
      "cell_type": "code",
      "source": [
        "list.append(4)\n",
        "list"
      ],
      "metadata": {
        "id": "cTkRdh1ppYSQ"
      },
      "execution_count": null,
      "outputs": []
    },
    {
      "cell_type": "code",
      "source": [
        "list.remove(4)\n",
        "list"
      ],
      "metadata": {
        "id": "hBf2awHdpYEi"
      },
      "execution_count": null,
      "outputs": []
    },
    {
      "cell_type": "markdown",
      "source": [
        "##pop"
      ],
      "metadata": {
        "id": "r_1ESG4N6XsX"
      }
    },
    {
      "cell_type": "code",
      "source": [
        "def pop(a):\n",
        "  var.pop(a) #pop(index)\n",
        "  return var"
      ],
      "metadata": {
        "id": "KVNvjuIp55D5"
      },
      "execution_count": null,
      "outputs": []
    },
    {
      "cell_type": "code",
      "source": [
        "var.pop() #by default lasst element"
      ],
      "metadata": {
        "id": "gcyQFz0V6dZK"
      },
      "execution_count": null,
      "outputs": []
    },
    {
      "cell_type": "code",
      "source": [
        "var"
      ],
      "metadata": {
        "id": "uJZwACzl6fgX"
      },
      "execution_count": null,
      "outputs": []
    },
    {
      "cell_type": "code",
      "source": [
        "pop(1)"
      ],
      "metadata": {
        "id": "yBbImCwk6m3A"
      },
      "execution_count": null,
      "outputs": []
    },
    {
      "cell_type": "markdown",
      "source": [
        "**Iterate through each command in order and perform the corresponding operation on your list.**"
      ],
      "metadata": {
        "id": "jXuO0yCt7HGA"
      }
    },
    {
      "cell_type": "code",
      "source": [
        "N=int(input())\n",
        "lis=[]\n",
        "for x in range(0,N):\n",
        "  command=input().split()\n",
        "\n",
        "  if command[0]=='insert' :\n",
        "    lis.insert(int(command[1]),int(command[2]))\n",
        "  elif command[0]=='print':\n",
        "    print(lis)\n",
        "  elif command[0]=='remove':\n",
        "    lis.remove(int(command[1]))\n",
        "  elif command[0]=='append':\n",
        "    lis.append(int(command[1]))\n",
        "  elif command[0]=='sort':\n",
        "    lis.sort()\n",
        "  elif command[0]=='pop':\n",
        "    lis.pop()\n",
        "  elif command[0]=='reverse':\n",
        "    lis.reverse()\n"
      ],
      "metadata": {
        "id": "Yh6mPXMc6suT"
      },
      "execution_count": null,
      "outputs": []
    },
    {
      "cell_type": "markdown",
      "source": [
        "**Store them in a list and find the score of the runner-up.**"
      ],
      "metadata": {
        "id": "X-MAJMH7M24c"
      }
    },
    {
      "cell_type": "code",
      "source": [
        "def find_runnerup(arr):\n",
        "    first = second = float('-inf')\n",
        "    for x in arr:\n",
        "        if x > first:\n",
        "            second = first\n",
        "            first = x\n",
        "        elif x > second and x != first:\n",
        "            second = x\n",
        "    return second\n",
        "\n",
        "if __name__ == '__main__':\n",
        "    n = int(input())\n",
        "    arr = list(map(int, input().split()))\n",
        "    print(find_runnerup(arr))\n"
      ],
      "metadata": {
        "id": "W5_MJmShJXLQ"
      },
      "execution_count": null,
      "outputs": []
    },
    {
      "cell_type": "markdown",
      "source": [
        "**Given the names and grades for each student in a class of N students, store them in a nested list and print the name(s) of any student(s) having the second lowest grade.**"
      ],
      "metadata": {
        "id": "H45UN7pR2X2x"
      }
    },
    {
      "cell_type": "code",
      "source": [
        "a=[]\n",
        "b=[]\n",
        "def print_name(second):\n",
        "  for x in range(len(a)):\n",
        "    if a[x][1]==second:\n",
        "      b.append(a[x][0])\n",
        "  b.sort()\n",
        "  for x in b:\n",
        "    print(x)\n",
        "\n",
        "def second_lowest(a):\n",
        "  first = second = float('inf')\n",
        "  for x in range(len(a)):\n",
        "    if a[x][1] < first:\n",
        "      second = first\n",
        "      first = a[x][1]\n",
        "    elif a[x][1] < second and a[x][1] != first:\n",
        "      second = a[x][1]\n",
        "  return second\n",
        "\n",
        "if __name__ == '__main__':\n",
        "  for x in range(int(input())):\n",
        "      name = input('enter name:')\n",
        "      score = float(input('enter score:'))\n",
        "\n",
        "      a.append([name,score])\n",
        "\n",
        "  value=second_lowest(a)\n",
        "  print_name(value)\n",
        "\n",
        "\n"
      ],
      "metadata": {
        "id": "T9wUNdObf-bq"
      },
      "execution_count": null,
      "outputs": []
    },
    {
      "cell_type": "markdown",
      "source": [
        "**This tool computes the cartesian product of input iterables.**"
      ],
      "metadata": {
        "id": "pVwdARnY_9gO"
      }
    },
    {
      "cell_type": "code",
      "source": [
        "from itertools import product\n",
        "\n",
        "def custom_product(a, b):\n",
        "    cartesian_product = list(product(a, b))\n",
        "    return cartesian_product\n",
        "\n",
        "if __name__ == '__main__':\n",
        "   a=list(map(int,input().split()))\n",
        "   b=list(map(int,input().split()))\n",
        "   result= custom_product(a,b)\n",
        "\n",
        "   for x in result:\n",
        "      print(x, end=' ')\n"
      ],
      "metadata": {
        "id": "BuoSMV6w1kAw"
      },
      "execution_count": null,
      "outputs": []
    },
    {
      "cell_type": "code",
      "source": [
        "def custom_product(a, b):\n",
        "    cartesian_product=[(x,y) for x in a for y in b]\n",
        "    return cartesian_product\n",
        "\n",
        "if __name__ == '__main__':\n",
        "   a=list(map(int,input().split()))\n",
        "   b=list(map(int,input().split()))\n",
        "   result= custom_product(a,b)\n",
        "\n",
        "   for x in result:\n",
        "      print(x,end=' ')\n",
        "\n"
      ],
      "metadata": {
        "id": "ohg3BLbT8mM6"
      },
      "execution_count": null,
      "outputs": []
    },
    {
      "cell_type": "markdown",
      "source": [
        "# Dictionary"
      ],
      "metadata": {
        "id": "Glp9H-ceecdP"
      }
    },
    {
      "cell_type": "markdown",
      "source": [
        "**The provided code stub will read in a dictionary containing key/value pairs of name:[marks] for a list of students. Print the average of the marks array for the student name provided, showing 2 places after the decimal.**"
      ],
      "metadata": {
        "id": "IPMk1SRgQUVI"
      }
    },
    {
      "cell_type": "code",
      "source": [
        "def avrg_marks(marks):\n",
        "  sum=0\n",
        "  for x in marks:\n",
        "    sum=sum+x\n",
        "  avg_of_marks=sum/len(marks)\n",
        "  print(f'{avg_of_marks:.2f}')\n",
        "\n",
        "if __name__ == '__main__':\n",
        "    n = int(input())\n",
        "    student_marks = {}\n",
        "    for _ in range(n):\n",
        "        name, *line = input().split()\n",
        "        scores = list(map(float, line))\n",
        "        student_marks[name] = scores\n",
        "    query_name = input()\n",
        "    marks=student_marks[query_name]\n",
        "    avrg_marks(marks)\n"
      ],
      "metadata": {
        "id": "-q6sG8DTwECN"
      },
      "execution_count": null,
      "outputs": []
    },
    {
      "cell_type": "markdown",
      "source": [
        "# Set\n",
        "\n"
      ],
      "metadata": {
        "id": "nJGSwX6S7yNt"
      }
    },
    {
      "cell_type": "markdown",
      "source": [
        "**Use add fun() for find distinct values in a set**"
      ],
      "metadata": {
        "id": "Eci4Wdtm_PuR"
      }
    },
    {
      "cell_type": "code",
      "source": [
        "def distinct_value(details):\n",
        "  m=set(details)\n",
        "  return len(m)\n",
        "\n",
        "\n",
        "if '__main__'==__name__:\n",
        "  n=int(input())\n",
        "  details=[]\n",
        "  for x in range(n):\n",
        "    a=input()\n",
        "    details.append(a)\n",
        "  print(distinct_value(details))\n",
        "\n",
        "\n"
      ],
      "metadata": {
        "id": "zfwzK7ICu7qZ"
      },
      "execution_count": null,
      "outputs": []
    },
    {
      "cell_type": "markdown",
      "source": [
        "**compute the average of all the numbers with distinct values in the list.**"
      ],
      "metadata": {
        "id": "vcNVSMORGi8y"
      }
    },
    {
      "cell_type": "code",
      "source": [
        "def average(array):\n",
        "  arr_set=set(array)\n",
        "  arr_list=list(arr_set)\n",
        "\n",
        "  return sum(arr_list)/len(arr_list)\n",
        "\n",
        "\n",
        "if '__main__' == __name__ :\n",
        "  n = int(input())\n",
        "  arr = list(map(int,input().split()))\n",
        "  result = average(arr)\n",
        "  print(result)"
      ],
      "metadata": {
        "id": "WUli9TJZ-mzi"
      },
      "execution_count": null,
      "outputs": []
    },
    {
      "cell_type": "markdown",
      "source": [
        "# Tuple"
      ],
      "metadata": {
        "id": "3qMfDo6qVr8P"
      }
    },
    {
      "cell_type": "markdown",
      "source": [
        "## Hash Value of Tuple\n"
      ],
      "metadata": {
        "id": "H-X3pIt5T0lM"
      }
    },
    {
      "cell_type": "code",
      "source": [
        "def hash_value(t):\n",
        "  return hash(t)\n",
        "\n",
        "if '__main__' == __name__:\n",
        "  n=int(input())\n",
        "  list=map(int,input().split())\n",
        "  t=tuple(list)\n",
        "  print(hash_value(t))\n"
      ],
      "metadata": {
        "id": "PpcrkqXFGF-c"
      },
      "execution_count": null,
      "outputs": []
    },
    {
      "cell_type": "code",
      "source": [
        "N, M = list(map(int,input().split()))\n",
        "a=1\n",
        "for i in range(1,int(N/2)+1):\n",
        "  print(('.|.'*a).center(M,'-'))\n",
        "  a=a+2\n",
        "\n",
        "print('WELCOME'.center(M,'-'))\n",
        "\n",
        "for i in range(int(N/2),0,-1):\n",
        "  a=a-2\n",
        "  print(('.|.'*a).center(M,'-'))"
      ],
      "metadata": {
        "id": "PT6MTOZRfzih"
      },
      "execution_count": null,
      "outputs": []
    },
    {
      "cell_type": "code",
      "source": [],
      "metadata": {
        "id": "x8Q6LaD1hkWO"
      },
      "execution_count": null,
      "outputs": []
    }
  ],
  "metadata": {
    "colab": {
      "provenance": [],
      "toc_visible": true,
      "authorship_tag": "ABX9TyPWNRhFGlvD7AVgfKf1W95u",
      "include_colab_link": true
    },
    "kernelspec": {
      "display_name": "Python 3",
      "name": "python3"
    },
    "language_info": {
      "name": "python"
    }
  },
  "nbformat": 4,
  "nbformat_minor": 0
}